{
  "nbformat": 4,
  "nbformat_minor": 0,
  "metadata": {
    "colab": {
      "name": "Red Wine Quality Prediction using Decision Tree Regression",
      "provenance": [],
      "collapsed_sections": [],
      "toc_visible": true,
      "authorship_tag": "ABX9TyPALe4LM8wo4y75Az34v0pb",
      "include_colab_link": true
    },
    "kernelspec": {
      "name": "python3",
      "display_name": "Python 3"
    }
  },
  "cells": [
    {
      "cell_type": "markdown",
      "metadata": {
        "id": "view-in-github",
        "colab_type": "text"
      },
      "source": [
        "<a href=\"https://colab.research.google.com/github/satyamraj18/Red-Wine-Quality-Prediction-using-Decision-Tree-Regression/blob/main/Red_Wine_Quality_Prediction_using_Decision_Tree_Regression.ipynb\" target=\"_parent\"><img src=\"https://colab.research.google.com/assets/colab-badge.svg\" alt=\"Open In Colab\"/></a>"
      ]
    },
    {
      "cell_type": "markdown",
      "metadata": {
        "id": "A08nYqxo3DUy"
      },
      "source": [
        "## Importing Packages"
      ]
    },
    {
      "cell_type": "code",
      "metadata": {
        "id": "lX6o9YIp2zXh"
      },
      "source": [
        "import pandas as pd\n",
        "import matplotlib.pyplot as plt\n",
        "import numpy as np"
      ],
      "execution_count": null,
      "outputs": []
    },
    {
      "cell_type": "markdown",
      "metadata": {
        "id": "P_AdDqHK380X"
      },
      "source": [
        "## Importing Datasets"
      ]
    },
    {
      "cell_type": "code",
      "metadata": {
        "id": "ac1pReA14Byr"
      },
      "source": [
        "dataset = pd.read_csv(\"winequality-red.csv\")\n",
        "X = dataset.iloc[:, :-1].values\n",
        "y = dataset.iloc[:, -1].values"
      ],
      "execution_count": null,
      "outputs": []
    },
    {
      "cell_type": "markdown",
      "metadata": {
        "id": "2ARYK3rz_vaZ"
      },
      "source": [
        "## Handling Missing Data"
      ]
    },
    {
      "cell_type": "code",
      "metadata": {
        "id": "XrJWGjGb_zyZ"
      },
      "source": [
        "from sklearn.impute import SimpleImputer\n",
        "imputer = SimpleImputer(missing_values=np.nan,strategy=\"mean\")\n",
        "imputer.fit(X)\n",
        "X = imputer.transform(X)"
      ],
      "execution_count": null,
      "outputs": []
    },
    {
      "cell_type": "markdown",
      "metadata": {
        "id": "s6jcsDwYAwse"
      },
      "source": [
        "## Splitting the Dataset"
      ]
    },
    {
      "cell_type": "code",
      "metadata": {
        "id": "bUuivSE3Aza-"
      },
      "source": [
        "from sklearn.model_selection import train_test_split\n",
        "X_train,X_test,y_train,y_test = train_test_split(X,y,test_size=0.2,random_state=0)"
      ],
      "execution_count": null,
      "outputs": []
    },
    {
      "cell_type": "markdown",
      "metadata": {
        "id": "2KeTbVZ2BV6g"
      },
      "source": [
        "## Training the Model"
      ]
    },
    {
      "cell_type": "code",
      "metadata": {
        "id": "cBWiWNXzBaBo",
        "colab": {
          "base_uri": "https://localhost:8080/",
          "height": 119
        },
        "outputId": "2c351719-dd4c-4cac-daaa-7d404026a1e3"
      },
      "source": [
        "from sklearn.tree import DecisionTreeRegressor\n",
        "regressor = DecisionTreeRegressor(random_state=0)\n",
        "regressor.fit(X_train,y_train)"
      ],
      "execution_count": null,
      "outputs": [
        {
          "output_type": "execute_result",
          "data": {
            "text/plain": [
              "DecisionTreeRegressor(ccp_alpha=0.0, criterion='mse', max_depth=None,\n",
              "                      max_features=None, max_leaf_nodes=None,\n",
              "                      min_impurity_decrease=0.0, min_impurity_split=None,\n",
              "                      min_samples_leaf=1, min_samples_split=2,\n",
              "                      min_weight_fraction_leaf=0.0, presort='deprecated',\n",
              "                      random_state=0, splitter='best')"
            ]
          },
          "metadata": {
            "tags": []
          },
          "execution_count": 8
        }
      ]
    },
    {
      "cell_type": "markdown",
      "metadata": {
        "id": "yoKqxud3B5wC"
      },
      "source": [
        "## Comparing Predicted and Test set data"
      ]
    },
    {
      "cell_type": "code",
      "metadata": {
        "id": "JB7D4Bx-B5Og",
        "colab": {
          "base_uri": "https://localhost:8080/",
          "height": 1000
        },
        "outputId": "4a0173c1-88de-4be6-c971-62ed28663dc0"
      },
      "source": [
        "y_pred = regressor.predict(X_test)\n",
        "np.set_printoptions(precision=2)\n",
        "print(np.concatenate((y_pred.reshape(len(y_pred),1),y_test.reshape(len(y_test),1)),1))"
      ],
      "execution_count": null,
      "outputs": [
        {
          "output_type": "stream",
          "text": [
            "[[5. 6.]\n",
            " [6. 5.]\n",
            " [7. 7.]\n",
            " [5. 6.]\n",
            " [5. 5.]\n",
            " [6. 6.]\n",
            " [6. 5.]\n",
            " [6. 6.]\n",
            " [5. 4.]\n",
            " [5. 5.]\n",
            " [5. 5.]\n",
            " [5. 5.]\n",
            " [6. 6.]\n",
            " [4. 5.]\n",
            " [5. 6.]\n",
            " [5. 6.]\n",
            " [7. 7.]\n",
            " [5. 5.]\n",
            " [5. 5.]\n",
            " [6. 4.]\n",
            " [7. 7.]\n",
            " [5. 6.]\n",
            " [6. 6.]\n",
            " [4. 4.]\n",
            " [5. 6.]\n",
            " [5. 5.]\n",
            " [5. 5.]\n",
            " [6. 7.]\n",
            " [5. 5.]\n",
            " [7. 6.]\n",
            " [6. 5.]\n",
            " [5. 6.]\n",
            " [6. 5.]\n",
            " [5. 6.]\n",
            " [7. 7.]\n",
            " [7. 7.]\n",
            " [5. 5.]\n",
            " [6. 6.]\n",
            " [7. 6.]\n",
            " [5. 7.]\n",
            " [6. 5.]\n",
            " [6. 7.]\n",
            " [7. 6.]\n",
            " [7. 6.]\n",
            " [6. 5.]\n",
            " [5. 5.]\n",
            " [5. 6.]\n",
            " [6. 6.]\n",
            " [5. 6.]\n",
            " [5. 5.]\n",
            " [6. 5.]\n",
            " [6. 5.]\n",
            " [6. 6.]\n",
            " [6. 6.]\n",
            " [5. 6.]\n",
            " [5. 5.]\n",
            " [5. 5.]\n",
            " [5. 5.]\n",
            " [7. 6.]\n",
            " [6. 5.]\n",
            " [5. 5.]\n",
            " [6. 6.]\n",
            " [6. 6.]\n",
            " [6. 6.]\n",
            " [5. 5.]\n",
            " [6. 6.]\n",
            " [5. 5.]\n",
            " [5. 5.]\n",
            " [7. 6.]\n",
            " [6. 6.]\n",
            " [6. 6.]\n",
            " [6. 6.]\n",
            " [5. 4.]\n",
            " [5. 6.]\n",
            " [6. 5.]\n",
            " [6. 6.]\n",
            " [5. 5.]\n",
            " [5. 5.]\n",
            " [5. 5.]\n",
            " [7. 6.]\n",
            " [6. 6.]\n",
            " [5. 5.]\n",
            " [6. 6.]\n",
            " [5. 6.]\n",
            " [6. 6.]\n",
            " [5. 5.]\n",
            " [4. 6.]\n",
            " [5. 5.]\n",
            " [5. 5.]\n",
            " [5. 5.]\n",
            " [5. 5.]\n",
            " [6. 6.]\n",
            " [7. 4.]\n",
            " [5. 5.]\n",
            " [6. 7.]\n",
            " [6. 6.]\n",
            " [7. 6.]\n",
            " [4. 5.]\n",
            " [5. 6.]\n",
            " [6. 5.]\n",
            " [6. 8.]\n",
            " [5. 6.]\n",
            " [6. 6.]\n",
            " [6. 6.]\n",
            " [5. 5.]\n",
            " [5. 5.]\n",
            " [5. 5.]\n",
            " [6. 5.]\n",
            " [6. 7.]\n",
            " [5. 5.]\n",
            " [6. 6.]\n",
            " [5. 5.]\n",
            " [8. 7.]\n",
            " [5. 5.]\n",
            " [5. 6.]\n",
            " [6. 6.]\n",
            " [5. 6.]\n",
            " [6. 7.]\n",
            " [7. 6.]\n",
            " [6. 6.]\n",
            " [5. 5.]\n",
            " [4. 7.]\n",
            " [5. 5.]\n",
            " [5. 5.]\n",
            " [6. 6.]\n",
            " [6. 6.]\n",
            " [5. 5.]\n",
            " [6. 5.]\n",
            " [6. 5.]\n",
            " [6. 6.]\n",
            " [5. 6.]\n",
            " [6. 6.]\n",
            " [6. 6.]\n",
            " [6. 6.]\n",
            " [6. 6.]\n",
            " [5. 5.]\n",
            " [6. 6.]\n",
            " [5. 5.]\n",
            " [6. 8.]\n",
            " [5. 5.]\n",
            " [6. 6.]\n",
            " [6. 5.]\n",
            " [5. 6.]\n",
            " [6. 5.]\n",
            " [5. 4.]\n",
            " [6. 6.]\n",
            " [8. 7.]\n",
            " [6. 6.]\n",
            " [5. 5.]\n",
            " [5. 6.]\n",
            " [6. 6.]\n",
            " [5. 5.]\n",
            " [6. 5.]\n",
            " [5. 5.]\n",
            " [6. 6.]\n",
            " [6. 6.]\n",
            " [6. 3.]\n",
            " [6. 6.]\n",
            " [6. 6.]\n",
            " [5. 6.]\n",
            " [5. 6.]\n",
            " [6. 6.]\n",
            " [7. 6.]\n",
            " [5. 6.]\n",
            " [5. 5.]\n",
            " [5. 5.]\n",
            " [6. 6.]\n",
            " [6. 6.]\n",
            " [6. 6.]\n",
            " [6. 6.]\n",
            " [6. 5.]\n",
            " [5. 5.]\n",
            " [5. 5.]\n",
            " [7. 8.]\n",
            " [6. 5.]\n",
            " [6. 6.]\n",
            " [7. 6.]\n",
            " [6. 7.]\n",
            " [7. 7.]\n",
            " [5. 5.]\n",
            " [4. 5.]\n",
            " [7. 7.]\n",
            " [6. 5.]\n",
            " [6. 6.]\n",
            " [7. 6.]\n",
            " [6. 4.]\n",
            " [6. 5.]\n",
            " [6. 6.]\n",
            " [5. 5.]\n",
            " [5. 5.]\n",
            " [6. 6.]\n",
            " [5. 5.]\n",
            " [5. 6.]\n",
            " [6. 6.]\n",
            " [5. 5.]\n",
            " [5. 5.]\n",
            " [5. 5.]\n",
            " [6. 5.]\n",
            " [5. 5.]\n",
            " [5. 5.]\n",
            " [5. 5.]\n",
            " [6. 6.]\n",
            " [6. 6.]\n",
            " [6. 5.]\n",
            " [3. 6.]\n",
            " [5. 6.]\n",
            " [5. 5.]\n",
            " [7. 6.]\n",
            " [6. 7.]\n",
            " [6. 6.]\n",
            " [5. 6.]\n",
            " [6. 6.]\n",
            " [5. 5.]\n",
            " [7. 5.]\n",
            " [3. 5.]\n",
            " [6. 6.]\n",
            " [6. 5.]\n",
            " [7. 6.]\n",
            " [6. 6.]\n",
            " [5. 5.]\n",
            " [5. 5.]\n",
            " [5. 5.]\n",
            " [7. 6.]\n",
            " [6. 6.]\n",
            " [5. 5.]\n",
            " [6. 6.]\n",
            " [7. 6.]\n",
            " [6. 6.]\n",
            " [6. 3.]\n",
            " [5. 6.]\n",
            " [5. 5.]\n",
            " [6. 5.]\n",
            " [6. 7.]\n",
            " [5. 6.]\n",
            " [6. 7.]\n",
            " [6. 6.]\n",
            " [6. 6.]\n",
            " [7. 7.]\n",
            " [7. 7.]\n",
            " [6. 6.]\n",
            " [5. 5.]\n",
            " [6. 6.]\n",
            " [5. 5.]\n",
            " [5. 5.]\n",
            " [7. 6.]\n",
            " [6. 5.]\n",
            " [5. 5.]\n",
            " [5. 5.]\n",
            " [5. 5.]\n",
            " [6. 6.]\n",
            " [6. 5.]\n",
            " [6. 5.]\n",
            " [5. 5.]\n",
            " [5. 6.]\n",
            " [6. 6.]\n",
            " [5. 5.]\n",
            " [5. 5.]\n",
            " [5. 5.]\n",
            " [6. 6.]\n",
            " [7. 7.]\n",
            " [5. 5.]\n",
            " [6. 6.]\n",
            " [6. 5.]\n",
            " [6. 6.]\n",
            " [6. 5.]\n",
            " [5. 4.]\n",
            " [5. 5.]\n",
            " [5. 5.]\n",
            " [5. 6.]\n",
            " [6. 7.]\n",
            " [5. 6.]\n",
            " [5. 5.]\n",
            " [6. 5.]\n",
            " [5. 4.]\n",
            " [7. 5.]\n",
            " [6. 6.]\n",
            " [6. 7.]\n",
            " [6. 6.]\n",
            " [6. 6.]\n",
            " [5. 7.]\n",
            " [5. 5.]\n",
            " [7. 7.]\n",
            " [5. 5.]\n",
            " [5. 6.]\n",
            " [6. 6.]\n",
            " [5. 5.]\n",
            " [5. 5.]\n",
            " [5. 5.]\n",
            " [7. 6.]\n",
            " [6. 6.]\n",
            " [5. 5.]\n",
            " [6. 6.]\n",
            " [6. 6.]\n",
            " [6. 6.]\n",
            " [6. 5.]\n",
            " [6. 6.]\n",
            " [6. 6.]\n",
            " [5. 5.]\n",
            " [6. 6.]\n",
            " [5. 5.]\n",
            " [6. 6.]\n",
            " [5. 5.]\n",
            " [6. 6.]\n",
            " [6. 6.]\n",
            " [6. 6.]\n",
            " [6. 6.]\n",
            " [6. 5.]\n",
            " [5. 5.]\n",
            " [6. 6.]\n",
            " [5. 5.]\n",
            " [5. 5.]\n",
            " [6. 6.]\n",
            " [5. 5.]\n",
            " [4. 5.]\n",
            " [4. 5.]\n",
            " [6. 6.]\n",
            " [6. 4.]\n",
            " [6. 5.]\n",
            " [5. 4.]\n",
            " [7. 6.]]\n"
          ],
          "name": "stdout"
        }
      ]
    }
  ]
}